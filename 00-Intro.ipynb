{
 "cells": [
  {
   "cell_type": "markdown",
   "id": "e1e65c61",
   "metadata": {},
   "source": [
    "# Straight Lines & JAX\n",
    "\n",
    "First, lets make some _messy_ straight line data, and see if we can recover the original line definition.\n",
    "\n",
    "We'll use JAX. JAX is a toolkit from DeepMind & Google used for NN research. Unlike `pytorch` and others it isn't a framework, more like a library and an ecosystem. This means we can see \"inside\" it. At a very basic level, you could think of it as `numpy`, but differentiable."
   ]
  },
  {
   "cell_type": "code",
   "execution_count": null,
   "id": "c9dcc874",
   "metadata": {},
   "outputs": [],
   "source": [
    "import jax # Access to the library\n",
    "import jax.numpy as jnp # Easy access to numpy like functions in jax\n",
    "import matplotlib.pyplot as plt"
   ]
  },
  {
   "cell_type": "markdown",
   "id": "fdb3a1d8",
   "metadata": {},
   "source": [
    "Lets create some data that is a straight line, but some random jitter in it."
   ]
  },
  {
   "cell_type": "code",
   "execution_count": null,
   "id": "d935f20a",
   "metadata": {},
   "outputs": [],
   "source": [
    "# random number tracking in JAX\n",
    "rng = jax.random.PRNGKey(0)\n",
    "rng, new_key = jax.random.split(rng)\n",
    "\n",
    "# Straight line with jitter\n",
    "x = jax.random.normal(rng, (100,))\n",
    "jitter = jax.random.normal(new_key, (100,))\n",
    "y = 3 * x + 2 + 0.5 * jitter"
   ]
  },
  {
   "cell_type": "markdown",
   "id": "e66a3301",
   "metadata": {},
   "source": [
    "We have a slope of **3** and an intercept of **2**.\n",
    "\n",
    "To get ourselves comfortable with this, lets look at the data."
   ]
  },
  {
   "cell_type": "code",
   "execution_count": null,
   "id": "17b9808d",
   "metadata": {},
   "outputs": [],
   "source": [
    "[f\"({f_x:0.2f}, {f_y:0.2f})\" for f_x, f_y in list(zip(x,y))[0:5]]"
   ]
  },
  {
   "cell_type": "markdown",
   "id": "33eda9e4",
   "metadata": {},
   "source": [
    "Of course - when we have this many points, our brain is not built to understand a sequence of numbers. Our eyes, however, are excellent big-data sensors!"
   ]
  },
  {
   "cell_type": "code",
   "execution_count": null,
   "id": "957a5f62",
   "metadata": {},
   "outputs": [],
   "source": [
    "plt.scatter(x, y)\n",
    "# plt.plot(x, 3 * x + 2, color=\"red\")\n",
    "plt.xlabel(\"x\")\n",
    "plt.ylabel(\"y\")\n",
    "plt.show()"
   ]
  },
  {
   "cell_type": "markdown",
   "id": "4b3b34fb",
   "metadata": {},
   "source": [
    "## \"Exact\" solution\n",
    "\n",
    "We can code up the derivation:"
   ]
  },
  {
   "cell_type": "code",
   "execution_count": null,
   "id": "b7da3777",
   "metadata": {},
   "outputs": [],
   "source": [
    "n = len(x)\n",
    "beta_1 = (n * jnp.sum(x * y) - jnp.sum(x) * jnp.sum(y)) / (\n",
    "    n * jnp.sum(x**2) - jnp.sum(x) ** 2\n",
    ")\n",
    "beta_0 = (jnp.sum(y) - beta_1 * jnp.sum(x)) / n"
   ]
  },
  {
   "cell_type": "markdown",
   "id": "4988ffea",
   "metadata": {},
   "source": [
    "And the values of the fit:"
   ]
  },
  {
   "cell_type": "code",
   "execution_count": null,
   "id": "4eadd5a2",
   "metadata": {},
   "outputs": [],
   "source": [
    "print(f\"beta_0: {beta_0:.2f}\")\n",
    "print(f\"beta_1: {beta_1:.2f}\")"
   ]
  },
  {
   "cell_type": "markdown",
   "id": "cd87672b",
   "metadata": {},
   "source": [
    "Again - our eyes are a lot better here!"
   ]
  },
  {
   "cell_type": "code",
   "execution_count": null,
   "id": "6baa1a71",
   "metadata": {},
   "outputs": [],
   "source": [
    "plt.scatter(x, y, label=\"Data\", color=\"black\")\n",
    "plt.plot(x, 3 * x + 2, color=\"green\", label=\"Real L,ine\")\n",
    "plt.plot(x, beta_1 * x + beta_0, color=\"red\", label=\"Fitted Line\")\n",
    "plt.xlabel(\"x\")\n",
    "plt.ylabel(\"y\")\n",
    "plt.legend()\n",
    "plt.show()"
   ]
  },
  {
   "cell_type": "code",
   "execution_count": null,
   "id": "0b48a43b",
   "metadata": {},
   "outputs": [],
   "source": []
  }
 ],
 "metadata": {
  "kernelspec": {
   "display_name": ".venv",
   "language": "python",
   "name": "python3"
  },
  "language_info": {
   "codemirror_mode": {
    "name": "ipython",
    "version": 3
   },
   "file_extension": ".py",
   "mimetype": "text/x-python",
   "name": "python",
   "nbconvert_exporter": "python",
   "pygments_lexer": "ipython3",
   "version": "3.13.7"
  }
 },
 "nbformat": 4,
 "nbformat_minor": 5
}
